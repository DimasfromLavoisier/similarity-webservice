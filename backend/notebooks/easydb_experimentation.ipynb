{
 "cells": [
  {
   "cell_type": "code",
   "execution_count": 2,
   "id": "2dfb0df6-ee1f-432d-a0b6-97585289ff4f",
   "metadata": {},
   "outputs": [],
   "source": [
    "import requests"
   ]
  },
  {
   "cell_type": "code",
   "execution_count": 41,
   "id": "f72e9a0c-98c4-4b56-b5b5-0503b22be1d5",
   "metadata": {},
   "outputs": [],
   "source": [
    "BASE = \"https://heidicon.ub.uni-heidelberg.de/api/\""
   ]
  },
  {
   "cell_type": "code",
   "execution_count": 42,
   "id": "0cb2f6b2-1ff8-4982-a8dd-3dd0d00cc57b",
   "metadata": {},
   "outputs": [],
   "source": [
    "def url(endpoint):\n",
    "    return f\"{BASE}{endpoint}\""
   ]
  },
  {
   "cell_type": "code",
   "execution_count": 43,
   "id": "cbb80b18-8a35-4260-b256-228fadc0997f",
   "metadata": {},
   "outputs": [],
   "source": [
    "token = requests.get(url(\"session\")).json()[\"token\"]"
   ]
  },
  {
   "cell_type": "code",
   "execution_count": 48,
   "id": "83802a4a-0695-4a26-b533-90109f6b6b0b",
   "metadata": {},
   "outputs": [],
   "source": [
    "requests.post(\n",
    "    url(\"session/authenticate\"), params={\"token\": token, \"method\": \"anonymous\"}\n",
    ")"
   ]
  },
  {
   "cell_type": "code",
   "execution_count": 54,
   "id": "748fe5a6-d47c-4928-a378-303ad4cc2497",
   "metadata": {},
   "outputs": [],
   "source": [
    "requests.get(url(\"pool\"), params={\"token\": token}).json()"
   ]
  },
  {
   "cell_type": "code",
   "execution_count": 50,
   "id": "58164b4c-2441-4d33-9730-098e6b778d64",
   "metadata": {},
   "outputs": [],
   "source": [
    "search = requests.post(url(\"search\"), params={\"token\": token}, json=[{}])"
   ]
  },
  {
   "cell_type": "markdown",
   "id": "12fef733-38a7-40bf-baa7-7df0097e607c",
   "metadata": {},
   "source": [
    "# Not enough rights on the anonymous user?"
   ]
  },
  {
   "cell_type": "code",
   "execution_count": null,
   "id": "0bb560ea-f6a8-4014-a247-fdd4f4f6d048",
   "metadata": {},
   "outputs": [],
   "source": [
    "requests.get(url(\"pool\"), params={\"token\": token}).json()"
   ]
  }
 ],
 "metadata": {
  "kernelspec": {
   "display_name": "Python 3 (ipykernel)",
   "language": "python",
   "name": "python3"
  },
  "language_info": {
   "codemirror_mode": {
    "name": "ipython",
    "version": 3
   },
   "file_extension": ".py",
   "mimetype": "text/x-python",
   "name": "python",
   "nbconvert_exporter": "python",
   "pygments_lexer": "ipython3",
   "version": "3.12.0"
  }
 },
 "nbformat": 4,
 "nbformat_minor": 5
}
