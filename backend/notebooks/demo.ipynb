{
 "cells": [
  {
   "cell_type": "markdown",
   "id": "819be38a-921a-485a-8e1f-58daeadc14ac",
   "metadata": {},
   "source": [
    "# REST API Demonstration"
   ]
  },
  {
   "cell_type": "markdown",
   "id": "55984bca-1e25-45f9-8c31-ce080b2cdcfb",
   "metadata": {},
   "source": [
    "In the following we will demonstrate how the backend REST API can be used directly using the Python requests library. This serves both as a demonstrator for people that want to write Python scripts that work with the API, as well as people that want to do requests from other programming languages."
   ]
  },
  {
   "cell_type": "markdown",
   "id": "761857cc-1243-48f2-b179-80dce39c361b",
   "metadata": {},
   "source": [
    "## Prerequisites"
   ]
  },
  {
   "cell_type": "markdown",
   "id": "bb9c19c0-1c13-4525-9ca2-bc99f2ffb372",
   "metadata": {},
   "source": [
    "We are assuming that an instance of `similarity_webservice` is running somewhere. This might be an online production instance, but you can also spin up a local instance on your computer for testing purposes. In any case, we require the URL of the instance and potentially an API key. For online instances, you get these from the instance administrator. For the local setup you need to start running the Flask application by running this in a terminal:\n",
    "\n",
    "```\n",
    "similarity_webservice\n",
    "```\n",
    "\n",
    "This will spin up an instance of `similarity_webservice` at `http://localhost:5000/`. For some of the routes in this notebook, an API key is required. You can generate it on the command line (typically, an admin of the instance would do that for you):"
   ]
  },
  {
   "cell_type": "code",
   "execution_count": 5,
   "id": "b8b95407-5819-4ff2-8624-01544d6e3b31",
   "metadata": {},
   "outputs": [
    {
     "name": "stdout",
     "output_type": "stream",
     "text": [
      "Created the following API key:\n",
      "\n",
      "JkzJiuuV8zd5Z1elhW0wlb_FFxMasxzROfb3Eu_vBm4cWvztkCTiKLxZ7dV9eL4KiyzydLkLlSV6kVh0yx9ylQ\n",
      "\n",
      "It gives full (potentially destructive) access to our entire service.\n",
      "Please only share this with trusted parties through secure channels.\n",
      "You can revoke this key at any time through the 'similarity_auth delete' command\n"
     ]
    }
   ],
   "source": [
    "!python -m similarity_webservice.auth create"
   ]
  },
  {
   "cell_type": "code",
   "execution_count": 6,
   "id": "a8d65656-4544-4823-8b85-bc242b35bb56",
   "metadata": {},
   "outputs": [],
   "source": [
    "APIKEY = \"JkzJiuuV8zd5Z1elhW0wlb_FFxMasxzROfb3Eu_vBm4cWvztkCTiKLxZ7dV9eL4KiyzydLkLlSV6kVh0yx9ylQ\""
   ]
  },
  {
   "cell_type": "markdown",
   "id": "a8a83bfc-107d-403e-a601-4653521750fa",
   "metadata": {},
   "source": [
    "## Performing similarity search"
   ]
  },
  {
   "cell_type": "markdown",
   "id": "afd57522-728c-4ae8-a2e2-92dc0ca0fa4b",
   "metadata": {},
   "source": [
    "TODO"
   ]
  },
  {
   "cell_type": "markdown",
   "id": "26257aff-a021-444d-a72c-21a40b62b506",
   "metadata": {},
   "source": [
    "## Collection Management"
   ]
  },
  {
   "cell_type": "markdown",
   "id": "e5703c80-9835-44a4-9e9f-a76724783c85",
   "metadata": {},
   "source": [
    "TODO"
   ]
  }
 ],
 "metadata": {
  "kernelspec": {
   "display_name": "Python 3 (ipykernel)",
   "language": "python",
   "name": "python3"
  },
  "language_info": {
   "codemirror_mode": {
    "name": "ipython",
    "version": 3
   },
   "file_extension": ".py",
   "mimetype": "text/x-python",
   "name": "python",
   "nbconvert_exporter": "python",
   "pygments_lexer": "ipython3",
   "version": "3.12.0"
  }
 },
 "nbformat": 4,
 "nbformat_minor": 5
}
